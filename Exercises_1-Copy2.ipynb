{
 "cells": [
  {
   "cell_type": "markdown",
   "metadata": {},
   "source": [
    "![rmotr](https://user-images.githubusercontent.com/7065401/52071918-bda15380-2562-11e9-828c-7f95297e4a82.png)\n",
    "<hr style=\"margin-bottom: 40px;\">\n",
    "\n",
    "<img src=\"https://user-images.githubusercontent.com/7065401/58563302-42466a80-8201-11e9-9948-b3e9f88a5662.jpg\"\n",
    "    style=\"width:400px; float: right; margin: 0 40px 40px 40px;\"></img>\n",
    "\n",
    "# Exercises\n",
    "## Bike store sales"
   ]
  },
  {
   "cell_type": "markdown",
   "metadata": {},
   "source": [
    "![purple-divider](https://user-images.githubusercontent.com/7065401/52071927-c1cd7100-2562-11e9-908a-dde91ba14e59.png)\n",
    "\n",
    "## Hands on! "
   ]
  },
  {
   "cell_type": "code",
   "execution_count": 1,
   "metadata": {},
   "outputs": [],
   "source": [
    "import numpy as np\n",
    "import pandas as pd\n",
    "import matplotlib.pyplot as plt\n",
    "\n",
    "%matplotlib inline"
   ]
  },
  {
   "cell_type": "code",
   "execution_count": 2,
   "metadata": {},
   "outputs": [],
   "source": [
    "sales = pd.read_csv(\n",
    "    'data/sales_data.csv',\n",
    "    parse_dates=['Date'])"
   ]
  },
  {
   "cell_type": "code",
   "execution_count": 3,
   "metadata": {},
   "outputs": [
    {
     "data": {
      "text/html": [
       "<div>\n",
       "<style scoped>\n",
       "    .dataframe tbody tr th:only-of-type {\n",
       "        vertical-align: middle;\n",
       "    }\n",
       "\n",
       "    .dataframe tbody tr th {\n",
       "        vertical-align: top;\n",
       "    }\n",
       "\n",
       "    .dataframe thead th {\n",
       "        text-align: right;\n",
       "    }\n",
       "</style>\n",
       "<table border=\"1\" class=\"dataframe\">\n",
       "  <thead>\n",
       "    <tr style=\"text-align: right;\">\n",
       "      <th></th>\n",
       "      <th>Date</th>\n",
       "      <th>Day</th>\n",
       "      <th>Month</th>\n",
       "      <th>Year</th>\n",
       "      <th>Customer_Age</th>\n",
       "      <th>Age_Group</th>\n",
       "      <th>Customer_Gender</th>\n",
       "      <th>Country</th>\n",
       "      <th>State</th>\n",
       "      <th>Product_Category</th>\n",
       "      <th>Sub_Category</th>\n",
       "      <th>Product</th>\n",
       "      <th>Order_Quantity</th>\n",
       "      <th>Unit_Cost</th>\n",
       "      <th>Unit_Price</th>\n",
       "      <th>Profit</th>\n",
       "      <th>Cost</th>\n",
       "      <th>Revenue</th>\n",
       "    </tr>\n",
       "  </thead>\n",
       "  <tbody>\n",
       "    <tr>\n",
       "      <th>0</th>\n",
       "      <td>2013-11-26</td>\n",
       "      <td>26</td>\n",
       "      <td>November</td>\n",
       "      <td>2013</td>\n",
       "      <td>19</td>\n",
       "      <td>Youth (&lt;25)</td>\n",
       "      <td>M</td>\n",
       "      <td>Canada</td>\n",
       "      <td>British Columbia</td>\n",
       "      <td>Accessories</td>\n",
       "      <td>Bike Racks</td>\n",
       "      <td>Hitch Rack - 4-Bike</td>\n",
       "      <td>8</td>\n",
       "      <td>45</td>\n",
       "      <td>120</td>\n",
       "      <td>590</td>\n",
       "      <td>360</td>\n",
       "      <td>950</td>\n",
       "    </tr>\n",
       "    <tr>\n",
       "      <th>1</th>\n",
       "      <td>2015-11-26</td>\n",
       "      <td>26</td>\n",
       "      <td>November</td>\n",
       "      <td>2015</td>\n",
       "      <td>19</td>\n",
       "      <td>Youth (&lt;25)</td>\n",
       "      <td>M</td>\n",
       "      <td>Canada</td>\n",
       "      <td>British Columbia</td>\n",
       "      <td>Accessories</td>\n",
       "      <td>Bike Racks</td>\n",
       "      <td>Hitch Rack - 4-Bike</td>\n",
       "      <td>8</td>\n",
       "      <td>45</td>\n",
       "      <td>120</td>\n",
       "      <td>590</td>\n",
       "      <td>360</td>\n",
       "      <td>950</td>\n",
       "    </tr>\n",
       "    <tr>\n",
       "      <th>2</th>\n",
       "      <td>2014-03-23</td>\n",
       "      <td>23</td>\n",
       "      <td>March</td>\n",
       "      <td>2014</td>\n",
       "      <td>49</td>\n",
       "      <td>Adults (35-64)</td>\n",
       "      <td>M</td>\n",
       "      <td>Australia</td>\n",
       "      <td>New South Wales</td>\n",
       "      <td>Accessories</td>\n",
       "      <td>Bike Racks</td>\n",
       "      <td>Hitch Rack - 4-Bike</td>\n",
       "      <td>23</td>\n",
       "      <td>45</td>\n",
       "      <td>120</td>\n",
       "      <td>1366</td>\n",
       "      <td>1035</td>\n",
       "      <td>2401</td>\n",
       "    </tr>\n",
       "    <tr>\n",
       "      <th>3</th>\n",
       "      <td>2016-03-23</td>\n",
       "      <td>23</td>\n",
       "      <td>March</td>\n",
       "      <td>2016</td>\n",
       "      <td>49</td>\n",
       "      <td>Adults (35-64)</td>\n",
       "      <td>M</td>\n",
       "      <td>Australia</td>\n",
       "      <td>New South Wales</td>\n",
       "      <td>Accessories</td>\n",
       "      <td>Bike Racks</td>\n",
       "      <td>Hitch Rack - 4-Bike</td>\n",
       "      <td>20</td>\n",
       "      <td>45</td>\n",
       "      <td>120</td>\n",
       "      <td>1188</td>\n",
       "      <td>900</td>\n",
       "      <td>2088</td>\n",
       "    </tr>\n",
       "    <tr>\n",
       "      <th>4</th>\n",
       "      <td>2014-05-15</td>\n",
       "      <td>15</td>\n",
       "      <td>May</td>\n",
       "      <td>2014</td>\n",
       "      <td>47</td>\n",
       "      <td>Adults (35-64)</td>\n",
       "      <td>F</td>\n",
       "      <td>Australia</td>\n",
       "      <td>New South Wales</td>\n",
       "      <td>Accessories</td>\n",
       "      <td>Bike Racks</td>\n",
       "      <td>Hitch Rack - 4-Bike</td>\n",
       "      <td>4</td>\n",
       "      <td>45</td>\n",
       "      <td>120</td>\n",
       "      <td>238</td>\n",
       "      <td>180</td>\n",
       "      <td>418</td>\n",
       "    </tr>\n",
       "  </tbody>\n",
       "</table>\n",
       "</div>"
      ],
      "text/plain": [
       "        Date  Day     Month  Year  Customer_Age       Age_Group  \\\n",
       "0 2013-11-26   26  November  2013            19     Youth (<25)   \n",
       "1 2015-11-26   26  November  2015            19     Youth (<25)   \n",
       "2 2014-03-23   23     March  2014            49  Adults (35-64)   \n",
       "3 2016-03-23   23     March  2016            49  Adults (35-64)   \n",
       "4 2014-05-15   15       May  2014            47  Adults (35-64)   \n",
       "\n",
       "  Customer_Gender    Country             State Product_Category Sub_Category  \\\n",
       "0               M     Canada  British Columbia      Accessories   Bike Racks   \n",
       "1               M     Canada  British Columbia      Accessories   Bike Racks   \n",
       "2               M  Australia   New South Wales      Accessories   Bike Racks   \n",
       "3               M  Australia   New South Wales      Accessories   Bike Racks   \n",
       "4               F  Australia   New South Wales      Accessories   Bike Racks   \n",
       "\n",
       "               Product  Order_Quantity  Unit_Cost  Unit_Price  Profit  Cost  \\\n",
       "0  Hitch Rack - 4-Bike               8         45         120     590   360   \n",
       "1  Hitch Rack - 4-Bike               8         45         120     590   360   \n",
       "2  Hitch Rack - 4-Bike              23         45         120    1366  1035   \n",
       "3  Hitch Rack - 4-Bike              20         45         120    1188   900   \n",
       "4  Hitch Rack - 4-Bike               4         45         120     238   180   \n",
       "\n",
       "   Revenue  \n",
       "0      950  \n",
       "1      950  \n",
       "2     2401  \n",
       "3     2088  \n",
       "4      418  "
      ]
     },
     "execution_count": 3,
     "metadata": {},
     "output_type": "execute_result"
    }
   ],
   "source": [
    "sales.head()"
   ]
  },
  {
   "cell_type": "markdown",
   "metadata": {},
   "source": [
    "![green-divider](https://user-images.githubusercontent.com/7065401/52071924-c003ad80-2562-11e9-8297-1c6595f8a7ff.png)\n",
    "\n",
    "### What's the mean of `Customers_Age`?"
   ]
  },
  {
   "cell_type": "code",
   "execution_count": 4,
   "metadata": {},
   "outputs": [
    {
     "data": {
      "text/plain": [
       "35.91921157861212"
      ]
     },
     "execution_count": 4,
     "metadata": {},
     "output_type": "execute_result"
    }
   ],
   "source": [
    "# your code goes here\n",
    "sales['Customer_Age'].mean()"
   ]
  },
  {
   "cell_type": "markdown",
   "metadata": {
    "cell_type": "hint"
   },
   "source": [
    "Why don't you try with `.mean()`"
   ]
  },
  {
   "cell_type": "code",
   "execution_count": null,
   "metadata": {
    "cell_type": "solution"
   },
   "outputs": [],
   "source": []
  },
  {
   "cell_type": "markdown",
   "metadata": {},
   "source": [
    "Go ahead and show a <b>density (KDE)</b> and a <b>box plot</b> with the `Customer_Age` data:"
   ]
  },
  {
   "cell_type": "code",
   "execution_count": 5,
   "metadata": {},
   "outputs": [
    {
     "data": {
      "text/plain": [
       "<AxesSubplot:ylabel='Density'>"
      ]
     },
     "execution_count": 5,
     "metadata": {},
     "output_type": "execute_result"
    },
    {
     "data": {
      "image/png": "[encoded data removed]",
      "text/plain": [
       "<Figure size 432x432 with 1 Axes>"
      ]
     },
     "metadata": {
      "needs_background": "light"
     },
     "output_type": "display_data"
    }
   ],
   "source": [
    "# your code goes here\n",
    "sales['Customer_Age'].plot(kind='density', figsize=(6,6))"
   ]
  },
  {
   "cell_type": "code",
   "execution_count": 7,
   "metadata": {
    "cell_type": "solution"
   },
   "outputs": [
    {
     "data": {
      "text/plain": [
       "<AxesSubplot:>"
      ]
     },
     "execution_count": 7,
     "metadata": {},
     "output_type": "execute_result"
    },
    {
     "data": {
      "image/png": "[encoded data removed]",
      "text/plain": [
       "<Figure size 432x432 with 1 Axes>"
      ]
     },
     "metadata": {
      "needs_background": "light"
     },
     "output_type": "display_data"
    }
   ],
   "source": [
    "sales['Customer_Age'].plot(kind='box', vert=False, figsize=(6,6))"
   ]
  },
  {
   "cell_type": "code",
   "execution_count": null,
   "metadata": {
    "cell_type": "solution"
   },
   "outputs": [],
   "source": []
  },
  {
   "cell_type": "markdown",
   "metadata": {},
   "source": [
    "![green-divider](https://user-images.githubusercontent.com/7065401/52071924-c003ad80-2562-11e9-8297-1c6595f8a7ff.png)\n",
    "\n",
    "### What's the mean of `Order_Quantity`?"
   ]
  },
  {
   "cell_type": "code",
   "execution_count": 8,
   "metadata": {},
   "outputs": [
    {
     "data": {
      "text/plain": [
       "11.901659648253654"
      ]
     },
     "execution_count": 8,
     "metadata": {},
     "output_type": "execute_result"
    }
   ],
   "source": [
    "# your code goes here\n",
    "sales['Order_Quantity'].mean()"
   ]
  },
  {
   "cell_type": "code",
   "execution_count": null,
   "metadata": {
    "cell_type": "solution"
   },
   "outputs": [],
   "source": []
  },
  {
   "cell_type": "markdown",
   "metadata": {},
   "source": [
    "Go ahead and show a <b>histogram</b> and a <b>box plot</b> with the `Order_Quantity` data:"
   ]
  },
  {
   "cell_type": "code",
   "execution_count": 12,
   "metadata": {},
   "outputs": [
    {
     "data": {
      "text/plain": [
       "<AxesSubplot:ylabel='Frequency'>"
      ]
     },
     "execution_count": 12,
     "metadata": {},
     "output_type": "execute_result"
    },
    {
     "data": {
      "image/png": "[encoded data removed]",
      "text/plain": [
       "<Figure size 432x432 with 1 Axes>"
      ]
     },
     "metadata": {
      "needs_background": "light"
     },
     "output_type": "display_data"
    }
   ],
   "source": [
    "# your code goes here\n",
    "sales['Order_Quantity'].plot(kind='hist', bins=30, figsize=(6,6))"
   ]
  },
  {
   "cell_type": "code",
   "execution_count": 11,
   "metadata": {
    "cell_type": "solution"
   },
   "outputs": [
    {
     "data": {
      "text/plain": [
       "<AxesSubplot:>"
      ]
     },
     "execution_count": 11,
     "metadata": {},
     "output_type": "execute_result"
    },
    {
     "data": {
      "image/png": "[encoded data removed]",
      "text/plain": [
       "<Figure size 432x432 with 1 Axes>"
      ]
     },
     "metadata": {
      "needs_background": "light"
     },
     "output_type": "display_data"
    }
   ],
   "source": [
    "sales['Order_Quantity'].plot(kind='box', vert=False, figsize=(6,6))"
   ]
  },
  {
   "cell_type": "code",
   "execution_count": null,
   "metadata": {
    "cell_type": "solution"
   },
   "outputs": [],
   "source": []
  },
  {
   "cell_type": "markdown",
   "metadata": {},
   "source": [
    "![green-divider](https://user-images.githubusercontent.com/7065401/52071924-c003ad80-2562-11e9-8297-1c6595f8a7ff.png)\n",
    "\n",
    "### How many sales per year do we have?"
   ]
  },
  {
   "cell_type": "code",
   "execution_count": 13,
   "metadata": {},
   "outputs": [
    {
     "data": {
      "text/plain": [
       "2014    29398\n",
       "2016    29398\n",
       "2013    24443\n",
       "2015    24443\n",
       "2011     2677\n",
       "2012     2677\n",
       "Name: Year, dtype: int64"
      ]
     },
     "execution_count": 13,
     "metadata": {},
     "output_type": "execute_result"
    }
   ],
   "source": [
    "# your code goes here\n",
    "sales['Year'].value_counts()"
   ]
  },
  {
   "cell_type": "code",
   "execution_count": null,
   "metadata": {
    "cell_type": "solution"
   },
   "outputs": [],
   "source": []
  },
  {
   "cell_type": "markdown",
   "metadata": {},
   "source": [
    "Go ahead and show a <b>pie plot</b> with the previous data:"
   ]
  },
  {
   "cell_type": "code",
   "execution_count": 14,
   "metadata": {},
   "outputs": [
    {
     "data": {
      "text/plain": [
       "<AxesSubplot:ylabel='Year'>"
      ]
     },
     "execution_count": 14,
     "metadata": {},
     "output_type": "execute_result"
    },
    {
     "data": {
      "image/png": "[encoded data removed]",
      "text/plain": [
       "<Figure size 432x432 with 1 Axes>"
      ]
     },
     "metadata": {},
     "output_type": "display_data"
    }
   ],
   "source": [
    "# your code goes here\n",
    "sales['Year'].value_counts().plot(kind='pie', figsize=(6,6))"
   ]
  },
  {
   "cell_type": "code",
   "execution_count": null,
   "metadata": {
    "cell_type": "solution"
   },
   "outputs": [],
   "source": []
  },
  {
   "cell_type": "markdown",
   "metadata": {},
   "source": [
    "![green-divider](https://user-images.githubusercontent.com/7065401/52071924-c003ad80-2562-11e9-8297-1c6595f8a7ff.png)\n",
    "\n",
    "### How many sales per month do we have?"
   ]
  },
  {
   "cell_type": "code",
   "execution_count": 15,
   "metadata": {},
   "outputs": [
    {
     "data": {
      "text/plain": [
       "June         11234\n",
       "December     11200\n",
       "May          11128\n",
       "April        10182\n",
       "March         9674\n",
       "January       9284\n",
       "February      9022\n",
       "October       8750\n",
       "November      8734\n",
       "August        8200\n",
       "September     8166\n",
       "July          7462\n",
       "Name: Month, dtype: int64"
      ]
     },
     "execution_count": 15,
     "metadata": {},
     "output_type": "execute_result"
    }
   ],
   "source": [
    "# your code goes here\n",
    "sales['Month'].value_counts()"
   ]
  },
  {
   "cell_type": "code",
   "execution_count": null,
   "metadata": {
    "cell_type": "solution"
   },
   "outputs": [],
   "source": []
  },
  {
   "cell_type": "markdown",
   "metadata": {},
   "source": [
    "Go ahead and show a <b>bar plot</b> with the previous data:"
   ]
  },
  {
   "cell_type": "code",
   "execution_count": 16,
   "metadata": {},
   "outputs": [
    {
     "data": {
      "text/plain": [
       "<AxesSubplot:>"
      ]
     },
     "execution_count": 16,
     "metadata": {},
     "output_type": "execute_result"
    },
    {
     "data": {
      "image/png": "[encoded data removed]",
      "text/plain": [
       "<Figure size 432x432 with 1 Axes>"
      ]
     },
     "metadata": {
      "needs_background": "light"
     },
     "output_type": "display_data"
    }
   ],
   "source": [
    "# your code goes here\n",
    "sales['Month'].value_counts().plot(kind='bar', figsize=(6,6))"
   ]
  },
  {
   "cell_type": "code",
   "execution_count": null,
   "metadata": {
    "cell_type": "solution"
   },
   "outputs": [],
   "source": []
  },
  {
   "cell_type": "markdown",
   "metadata": {},
   "source": [
    "![green-divider](https://user-images.githubusercontent.com/7065401/52071924-c003ad80-2562-11e9-8297-1c6595f8a7ff.png)\n",
    "\n",
    "### Which country has the most sales `quantity of sales`?"
   ]
  },
  {
   "cell_type": "code",
   "execution_count": 20,
   "metadata": {},
   "outputs": [
    {
     "data": {
      "text/plain": [
       "United States     39206\n",
       "Australia         23936\n",
       "Canada            14178\n",
       "United Kingdom    13620\n",
       "Germany           11098\n",
       "France            10998\n",
       "Name: Country, dtype: int64"
      ]
     },
     "execution_count": 20,
     "metadata": {},
     "output_type": "execute_result"
    }
   ],
   "source": [
    "sales['Country'].value_counts()"
   ]
  },
  {
   "cell_type": "code",
   "execution_count": null,
   "metadata": {
    "cell_type": "solution"
   },
   "outputs": [],
   "source": []
  },
  {
   "cell_type": "code",
   "execution_count": null,
   "metadata": {
    "cell_type": "solution"
   },
   "outputs": [],
   "source": []
  },
  {
   "cell_type": "markdown",
   "metadata": {},
   "source": [
    "Go ahead and show a <b>bar plot</b> of the sales per country:"
   ]
  },
  {
   "cell_type": "code",
   "execution_count": 22,
   "metadata": {},
   "outputs": [
    {
     "data": {
      "text/plain": [
       "<AxesSubplot:>"
      ]
     },
     "execution_count": 22,
     "metadata": {},
     "output_type": "execute_result"
    },
    {
     "data": {
      "image/png": "[encoded data removed]",
      "text/plain": [
       "<Figure size 432x432 with 1 Axes>"
      ]
     },
     "metadata": {
      "needs_background": "light"
     },
     "output_type": "display_data"
    }
   ],
   "source": [
    "# your code goes here\n",
    "sales['Country'].value_counts().plot(kind='bar', figsize=(6,6))"
   ]
  },
  {
   "cell_type": "code",
   "execution_count": null,
   "metadata": {
    "cell_type": "solution"
   },
   "outputs": [],
   "source": []
  },
  {
   "cell_type": "markdown",
   "metadata": {},
   "source": [
    "![green-divider](https://user-images.githubusercontent.com/7065401/52071924-c003ad80-2562-11e9-8297-1c6595f8a7ff.png)\n",
    "\n",
    "### Create a list of every product sold"
   ]
  },
  {
   "cell_type": "code",
   "execution_count": 25,
   "metadata": {},
   "outputs": [
    {
     "data": {
      "text/plain": [
       "array(['Hitch Rack - 4-Bike', 'All-Purpose Bike Stand',\n",
       "       'Mountain Bottle Cage', 'Water Bottle - 30 oz.',\n",
       "       'Road Bottle Cage', 'AWC Logo Cap', 'Bike Wash - Dissolver',\n",
       "       'Fender Set - Mountain', 'Half-Finger Gloves, L',\n",
       "       'Half-Finger Gloves, M', 'Half-Finger Gloves, S',\n",
       "       'Sport-100 Helmet, Black', 'Sport-100 Helmet, Red',\n",
       "       'Sport-100 Helmet, Blue', 'Hydration Pack - 70 oz.',\n",
       "       'Short-Sleeve Classic Jersey, XL',\n",
       "       'Short-Sleeve Classic Jersey, L', 'Short-Sleeve Classic Jersey, M',\n",
       "       'Short-Sleeve Classic Jersey, S', 'Long-Sleeve Logo Jersey, M',\n",
       "       'Long-Sleeve Logo Jersey, XL', 'Long-Sleeve Logo Jersey, L',\n",
       "       'Long-Sleeve Logo Jersey, S', 'Mountain-100 Silver, 38',\n",
       "       'Mountain-100 Silver, 44', 'Mountain-100 Black, 48',\n",
       "       'Mountain-100 Silver, 48', 'Mountain-100 Black, 38',\n",
       "       'Mountain-200 Silver, 38', 'Mountain-100 Black, 44',\n",
       "       'Mountain-100 Silver, 42', 'Mountain-200 Black, 46',\n",
       "       'Mountain-200 Silver, 42', 'Mountain-200 Silver, 46',\n",
       "       'Mountain-200 Black, 38', 'Mountain-100 Black, 42',\n",
       "       'Mountain-200 Black, 42', 'Mountain-400-W Silver, 46',\n",
       "       'Mountain-500 Silver, 40', 'Mountain-500 Silver, 44',\n",
       "       'Mountain-500 Black, 48', 'Mountain-500 Black, 40',\n",
       "       'Mountain-400-W Silver, 42', 'Mountain-500 Silver, 52',\n",
       "       'Mountain-500 Black, 52', 'Mountain-500 Silver, 42',\n",
       "       'Mountain-500 Black, 44', 'Mountain-500 Silver, 48',\n",
       "       'Mountain-400-W Silver, 38', 'Mountain-400-W Silver, 40',\n",
       "       'Mountain-500 Black, 42', 'Road-150 Red, 48', 'Road-150 Red, 62',\n",
       "       'Road-750 Black, 48', 'Road-750 Black, 58', 'Road-750 Black, 52',\n",
       "       'Road-150 Red, 52', 'Road-150 Red, 44', 'Road-150 Red, 56',\n",
       "       'Road-750 Black, 44', 'Road-350-W Yellow, 40',\n",
       "       'Road-350-W Yellow, 42', 'Road-250 Black, 44',\n",
       "       'Road-250 Black, 48', 'Road-350-W Yellow, 48',\n",
       "       'Road-550-W Yellow, 44', 'Road-550-W Yellow, 38',\n",
       "       'Road-250 Black, 52', 'Road-550-W Yellow, 48', 'Road-250 Red, 58',\n",
       "       'Road-250 Black, 58', 'Road-250 Red, 52', 'Road-250 Red, 48',\n",
       "       'Road-250 Red, 44', 'Road-550-W Yellow, 42',\n",
       "       'Road-550-W Yellow, 40', 'Road-650 Red, 48', 'Road-650 Red, 60',\n",
       "       'Road-650 Black, 48', 'Road-350-W Yellow, 44', 'Road-650 Red, 52',\n",
       "       'Road-650 Black, 44', 'Road-650 Red, 62', 'Road-650 Red, 58',\n",
       "       'Road-650 Black, 60', 'Road-650 Black, 58', 'Road-650 Black, 52',\n",
       "       'Road-650 Black, 62', 'Road-650 Red, 44',\n",
       "       \"Women's Mountain Shorts, M\", \"Women's Mountain Shorts, S\",\n",
       "       \"Women's Mountain Shorts, L\", 'Racing Socks, L', 'Racing Socks, M',\n",
       "       'Mountain Tire Tube', 'Touring Tire Tube', 'Patch Kit/8 Patches',\n",
       "       'HL Mountain Tire', 'LL Mountain Tire', 'Road Tire Tube',\n",
       "       'LL Road Tire', 'Touring Tire', 'ML Mountain Tire', 'HL Road Tire',\n",
       "       'ML Road Tire', 'Touring-1000 Yellow, 50', 'Touring-1000 Blue, 46',\n",
       "       'Touring-1000 Yellow, 60', 'Touring-1000 Blue, 50',\n",
       "       'Touring-3000 Yellow, 50', 'Touring-3000 Blue, 54',\n",
       "       'Touring-3000 Blue, 58', 'Touring-3000 Yellow, 44',\n",
       "       'Touring-3000 Yellow, 54', 'Touring-3000 Blue, 62',\n",
       "       'Touring-3000 Blue, 44', 'Touring-1000 Blue, 54',\n",
       "       'Touring-1000 Yellow, 46', 'Touring-1000 Blue, 60',\n",
       "       'Touring-3000 Yellow, 62', 'Touring-1000 Yellow, 54',\n",
       "       'Touring-2000 Blue, 54', 'Touring-3000 Blue, 50',\n",
       "       'Touring-3000 Yellow, 58', 'Touring-2000 Blue, 46',\n",
       "       'Touring-2000 Blue, 50', 'Touring-2000 Blue, 60',\n",
       "       'Classic Vest, L', 'Classic Vest, M', 'Classic Vest, S'],\n",
       "      dtype=object)"
      ]
     },
     "execution_count": 25,
     "metadata": {},
     "output_type": "execute_result"
    }
   ],
   "source": [
    "# your code goes here\n",
    "sales['Product'].unique()"
   ]
  },
  {
   "cell_type": "code",
   "execution_count": null,
   "metadata": {
    "cell_type": "solution"
   },
   "outputs": [],
   "source": [
    "\n"
   ]
  },
  {
   "cell_type": "markdown",
   "metadata": {},
   "source": [
    "Create a **bar plot** showing the 10 most sold products (best sellers):"
   ]
  },
  {
   "cell_type": "code",
   "execution_count": 29,
   "metadata": {},
   "outputs": [
    {
     "data": {
      "text/plain": [
       "<AxesSubplot:>"
      ]
     },
     "execution_count": 29,
     "metadata": {},
     "output_type": "execute_result"
    },
    {
     "data": {
      "image/png": "[encoded data removed]",
      "text/plain": [
       "<Figure size 432x432 with 1 Axes>"
      ]
     },
     "metadata": {
      "needs_background": "light"
     },
     "output_type": "display_data"
    }
   ],
   "source": [
    "# your code goes here\n",
    "sales['Product'].value_counts().head(10).plot(kind='bar', figsize=(6,6))"
   ]
  },
  {
   "cell_type": "code",
   "execution_count": null,
   "metadata": {
    "cell_type": "solution"
   },
   "outputs": [],
   "source": []
  },
  {
   "cell_type": "markdown",
   "metadata": {},
   "source": [
    "![green-divider](https://user-images.githubusercontent.com/7065401/52071924-c003ad80-2562-11e9-8297-1c6595f8a7ff.png)\n",
    "\n",
    "### Can you see any relationship between `Unit_Cost` and `Unit_Price`?\n",
    "\n",
    "Show a <b>scatter plot</b> between both columns."
   ]
  },
  {
   "cell_type": "code",
   "execution_count": 30,
   "metadata": {},
   "outputs": [
    {
     "data": {
      "text/plain": [
       "<AxesSubplot:xlabel='Unit_Cost', ylabel='Unit_Price'>"
      ]
     },
     "execution_count": 30,
     "metadata": {},
     "output_type": "execute_result"
    },
    {
     "data": {
      "image/png": "[encoded data removed]",
      "text/plain": [
       "<Figure size 432x432 with 1 Axes>"
      ]
     },
     "metadata": {
      "needs_background": "light"
     },
     "output_type": "display_data"
    }
   ],
   "source": [
    "# your code goes here\n",
    "sales.plot(kind='scatter', x='Unit_Cost', y='Unit_Price', figsize=(6,6))"
   ]
  },
  {
   "cell_type": "code",
   "execution_count": null,
   "metadata": {
    "cell_type": "solution"
   },
   "outputs": [],
   "source": []
  },
  {
   "cell_type": "markdown",
   "metadata": {},
   "source": [
    "![green-divider](https://user-images.githubusercontent.com/7065401/52071924-c003ad80-2562-11e9-8297-1c6595f8a7ff.png)\n",
    "\n",
    "### Can you see any relationship between `Order_Quantity` and `Profit`?\n",
    "\n",
    "Show a <b>scatter plot</b> between both columns."
   ]
  },
  {
   "cell_type": "code",
   "execution_count": 31,
   "metadata": {},
   "outputs": [
    {
     "data": {
      "text/plain": [
       "<AxesSubplot:xlabel='Order_Quantity', ylabel='Profit'>"
      ]
     },
     "execution_count": 31,
     "metadata": {},
     "output_type": "execute_result"
    },
    {
     "data": {
      "image/png": "[encoded data removed]",
      "text/plain": [
       "<Figure size 432x288 with 1 Axes>"
      ]
     },
     "metadata": {
      "needs_background": "light"
     },
     "output_type": "display_data"
    }
   ],
   "source": [
    "# your code goes here\n",
    "sales.plot(kind='scatter', x='Order_Quantity', y='Profit')"
   ]
  },
  {
   "cell_type": "code",
   "execution_count": null,
   "metadata": {
    "cell_type": "solution"
   },
   "outputs": [],
   "source": []
  },
  {
   "cell_type": "markdown",
   "metadata": {},
   "source": [
    "![green-divider](https://user-images.githubusercontent.com/7065401/52071924-c003ad80-2562-11e9-8297-1c6595f8a7ff.png)\n",
    "\n",
    "### Can you see any relationship between `Profit` per `Country`?\n",
    "\n",
    "Show a grouped <b>box plot</b> per country with the profit values."
   ]
  },
  {
   "cell_type": "code",
   "execution_count": 34,
   "metadata": {},
   "outputs": [
    {
     "data": {
      "text/plain": [
       "<AxesSubplot:title={'center':'Profit'}, xlabel='[Country]'>"
      ]
     },
     "execution_count": 34,
     "metadata": {},
     "output_type": "execute_result"
    },
    {
     "data": {
      "image/png": "[encoded data removed]",
      "text/plain": [
       "<Figure size 432x432 with 1 Axes>"
      ]
     },
     "metadata": {
      "needs_background": "light"
     },
     "output_type": "display_data"
    }
   ],
   "source": [
    "# your code goes here\n",
    "sales[['Country', 'Profit']].boxplot(by='Country', figsize=(6,6))"
   ]
  },
  {
   "cell_type": "code",
   "execution_count": 5,
   "metadata": {
    "cell_type": "solution"
   },
   "outputs": [
    {
     "data": {
      "text/plain": [
       "<AxesSubplot:title={'center':'Profit'}, xlabel='[Country]'>"
      ]
     },
     "execution_count": 5,
     "metadata": {},
     "output_type": "execute_result"
    },
    {
     "data": {
      "image/png": "[encoded data removed]",
      "text/plain": [
       "<Figure size 720x432 with 1 Axes>"
      ]
     },
     "metadata": {
      "needs_background": "light"
     },
     "output_type": "display_data"
    }
   ],
   "source": []
  },
  {
   "cell_type": "markdown",
   "metadata": {},
   "source": [
    "![green-divider](https://user-images.githubusercontent.com/7065401/52071924-c003ad80-2562-11e9-8297-1c6595f8a7ff.png)\n",
    "\n",
    "### Can you see any relationship between the `Customer_Age` per `Country`?\n",
    "\n",
    "Show a grouped <b>box plot</b> per country with the customer age values."
   ]
  },
  {
   "cell_type": "code",
   "execution_count": 35,
   "metadata": {},
   "outputs": [
    {
     "data": {
      "text/plain": [
       "<AxesSubplot:title={'center':'Customer_Age'}, xlabel='[Country]'>"
      ]
     },
     "execution_count": 35,
     "metadata": {},
     "output_type": "execute_result"
    },
    {
     "data": {
      "image/png": "[encoded data removed]",
      "text/plain": [
       "<Figure size 432x432 with 1 Axes>"
      ]
     },
     "metadata": {
      "needs_background": "light"
     },
     "output_type": "display_data"
    }
   ],
   "source": [
    "# your code goes here\n",
    "sales[['Customer_Age', 'Country']].boxplot(by='Country', figsize=(6,6))"
   ]
  },
  {
   "cell_type": "code",
   "execution_count": null,
   "metadata": {
    "cell_type": "solution"
   },
   "outputs": [],
   "source": []
  },
  {
   "cell_type": "markdown",
   "metadata": {},
   "source": [
    "![green-divider](https://user-images.githubusercontent.com/7065401/52071924-c003ad80-2562-11e9-8297-1c6595f8a7ff.png)\n",
    "\n",
    "### Add and calculate a new `Calculated_Date` column\n",
    "\n",
    "Use `Day`, `Month`, `Year` to create a `Date` column (`YYYY-MM-DD`)."
   ]
  },
  {
   "cell_type": "code",
   "execution_count": 40,
   "metadata": {},
   "outputs": [
    {
     "data": {
      "text/plain": [
       "0         2013-November-26\n",
       "1         2015-November-26\n",
       "2            2014-March-23\n",
       "3            2016-March-23\n",
       "4              2014-May-15\n",
       "                ...       \n",
       "113031       2016-April-12\n",
       "113032        2014-April-2\n",
       "113033        2016-April-2\n",
       "113034        2014-March-4\n",
       "113035        2016-March-4\n",
       "Name: Calculated_Date, Length: 113036, dtype: object"
      ]
     },
     "execution_count": 40,
     "metadata": {},
     "output_type": "execute_result"
    }
   ],
   "source": [
    "# your code goes here\n",
    "sales['Calculated_Date'] = sales[['Year', 'Month', 'Day']].apply(lambda x: '{}-{}-{}'.format(x[0], x[1], x[2]), axis=1)\n",
    "sales['Calculated_Date']"
   ]
  },
  {
   "cell_type": "code",
   "execution_count": 43,
   "metadata": {
    "cell_type": "solution"
   },
   "outputs": [
    {
     "data": {
      "text/plain": [
       "0    2013-November-26\n",
       "1    2015-November-26\n",
       "2       2014-March-23\n",
       "3       2016-March-23\n",
       "4         2014-May-15\n",
       "Name: Calculated_Date, dtype: object"
      ]
     },
     "execution_count": 43,
     "metadata": {},
     "output_type": "execute_result"
    }
   ],
   "source": [
    "sales['Calculated_Date'] = sales[['Year', 'Month', 'Day']].apply(lambda x: '{}-{}-{}'.format(x[0], x[1], x[2]), axis=1)\n",
    "sales['Calculated_Date'].head()"
   ]
  },
  {
   "cell_type": "markdown",
   "metadata": {},
   "source": [
    "![green-divider](https://user-images.githubusercontent.com/7065401/52071924-c003ad80-2562-11e9-8297-1c6595f8a7ff.png)\n",
    "\n",
    "### Parse your `Calculated_Date` column into a datetime object"
   ]
  },
  {
   "cell_type": "code",
   "execution_count": 42,
   "metadata": {},
   "outputs": [
    {
     "data": {
      "text/plain": [
       "0   2013-11-26\n",
       "1   2015-11-26\n",
       "2   2014-03-23\n",
       "3   2016-03-23\n",
       "4   2014-05-15\n",
       "Name: Calculated_Date, dtype: datetime64[ns]"
      ]
     },
     "execution_count": 42,
     "metadata": {},
     "output_type": "execute_result"
    }
   ],
   "source": [
    "# your code goes here\n",
    "sales['Calculated_Date'] = pd.to_datetime(sales['Calculated_Date'])\n",
    "sales['Calculated_Date'].head()"
   ]
  },
  {
   "cell_type": "code",
   "execution_count": 8,
   "metadata": {
    "cell_type": "solution"
   },
   "outputs": [
    {
     "data": {
      "text/plain": [
       "0   2013-11-26\n",
       "1   2015-11-26\n",
       "2   2014-03-23\n",
       "3   2016-03-23\n",
       "4   2014-05-15\n",
       "Name: Calculated_Date, dtype: datetime64[ns]"
      ]
     },
     "execution_count": 8,
     "metadata": {},
     "output_type": "execute_result"
    }
   ],
   "source": []
  },
  {
   "cell_type": "code",
   "execution_count": 44,
   "metadata": {},
   "outputs": [
    {
     "data": {
      "text/plain": [
       "0        2013-11-26\n",
       "1        2015-11-26\n",
       "2        2014-03-23\n",
       "3        2016-03-23\n",
       "4        2014-05-15\n",
       "            ...    \n",
       "113031   2016-04-12\n",
       "113032   2014-04-02\n",
       "113033   2016-04-02\n",
       "113034   2014-03-04\n",
       "113035   2016-03-04\n",
       "Name: Calculated_Date, Length: 113036, dtype: datetime64[ns]"
      ]
     },
     "execution_count": 44,
     "metadata": {},
     "output_type": "execute_result"
    }
   ],
   "source": [
    "sales['Calculated_Date'] = pd.to_datetime(sales['Calculated_Date'])\n",
    "sales['Calculated_Date']"
   ]
  },
  {
   "cell_type": "markdown",
   "metadata": {},
   "source": [
    "![green-divider](https://user-images.githubusercontent.com/7065401/52071924-c003ad80-2562-11e9-8297-1c6595f8a7ff.png)\n",
    "\n",
    "### How did sales evolve through the years?\n",
    "\n",
    "Show a <b>line plot</b> using `Calculated_Date` column as the x-axis and the count of sales as the y-axis."
   ]
  },
  {
   "cell_type": "code",
   "execution_count": 46,
   "metadata": {},
   "outputs": [
    {
     "data": {
      "text/plain": [
       "<AxesSubplot:>"
      ]
     },
     "execution_count": 46,
     "metadata": {},
     "output_type": "execute_result"
    },
    {
     "data": {
      "image/png": "[encoded data removed]",
      "text/plain": [
       "<Figure size 432x288 with 1 Axes>"
      ]
     },
     "metadata": {
      "needs_background": "light"
     },
     "output_type": "display_data"
    }
   ],
   "source": [
    "# your code goes here\n",
    "sales['Calculated_Date'].value_counts().plot(kind='line')"
   ]
  },
  {
   "cell_type": "code",
   "execution_count": 10,
   "metadata": {
    "cell_type": "solution"
   },
   "outputs": [
    {
     "data": {
      "text/plain": [
       "<AxesSubplot:>"
      ]
     },
     "execution_count": 10,
     "metadata": {},
     "output_type": "execute_result"
    },
    {
     "data": {
      "image/png": "[encoded data removed]",
      "text/plain": [
       "<Figure size 1008x432 with 1 Axes>"
      ]
     },
     "metadata": {
      "needs_background": "light"
     },
     "output_type": "display_data"
    }
   ],
   "source": []
  },
  {
   "cell_type": "markdown",
   "metadata": {},
   "source": [
    "![green-divider](https://user-images.githubusercontent.com/7065401/52071924-c003ad80-2562-11e9-8297-1c6595f8a7ff.png)\n",
    "\n",
    "### Increase 50 U$S revenue to every sale"
   ]
  },
  {
   "cell_type": "code",
   "execution_count": 48,
   "metadata": {},
   "outputs": [],
   "source": [
    "# your code goes here\n",
    "sales['Revenue'] += 50"
   ]
  },
  {
   "cell_type": "code",
   "execution_count": 49,
   "metadata": {
    "cell_type": "solution"
   },
   "outputs": [
    {
     "data": {
      "text/plain": [
       "0         1000\n",
       "1         1000\n",
       "2         2451\n",
       "3         2138\n",
       "4          468\n",
       "          ... \n",
       "113031     234\n",
       "113032    1233\n",
       "113033    1233\n",
       "113034    1310\n",
       "113035    1257\n",
       "Name: Revenue, Length: 113036, dtype: int64"
      ]
     },
     "execution_count": 49,
     "metadata": {},
     "output_type": "execute_result"
    }
   ],
   "source": [
    "sales['Revenue']"
   ]
  },
  {
   "cell_type": "markdown",
   "metadata": {},
   "source": [
    "![green-divider](https://user-images.githubusercontent.com/7065401/52071924-c003ad80-2562-11e9-8297-1c6595f8a7ff.png)\n",
    "\n",
    "### How many orders were made in `Canada` or `France`?"
   ]
  },
  {
   "cell_type": "code",
   "execution_count": 52,
   "metadata": {},
   "outputs": [
    {
     "data": {
      "text/plain": [
       "25176"
      ]
     },
     "execution_count": 52,
     "metadata": {},
     "output_type": "execute_result"
    }
   ],
   "source": [
    "# your code goes here\n",
    "sales.loc[(sales['Country'] == 'Canada') | (sales['Country'] == 'France'), 'Order_Quantity'].shape[0]"
   ]
  },
  {
   "cell_type": "code",
   "execution_count": 11,
   "metadata": {
    "cell_type": "solution"
   },
   "outputs": [
    {
     "data": {
      "text/plain": [
       "25176"
      ]
     },
     "execution_count": 11,
     "metadata": {},
     "output_type": "execute_result"
    }
   ],
   "source": []
  },
  {
   "cell_type": "markdown",
   "metadata": {},
   "source": [
    "![green-divider](https://user-images.githubusercontent.com/7065401/52071924-c003ad80-2562-11e9-8297-1c6595f8a7ff.png)\n",
    "\n",
    "### How many `Bike Racks` orders were made from Canada?"
   ]
  },
  {
   "cell_type": "code",
   "execution_count": 55,
   "metadata": {},
   "outputs": [
    {
     "data": {
      "text/plain": [
       "104"
      ]
     },
     "execution_count": 55,
     "metadata": {},
     "output_type": "execute_result"
    }
   ],
   "source": [
    "# your code goes here\n",
    "sales.loc[(sales['Country'] == 'Canada') & (sales['Sub_Category'] == 'Bike Racks'), 'Order_Quantity'].shape[0]"
   ]
  },
  {
   "cell_type": "code",
   "execution_count": null,
   "metadata": {
    "cell_type": "solution"
   },
   "outputs": [],
   "source": []
  },
  {
   "cell_type": "markdown",
   "metadata": {},
   "source": [
    "![green-divider](https://user-images.githubusercontent.com/7065401/52071924-c003ad80-2562-11e9-8297-1c6595f8a7ff.png)\n",
    "\n",
    "### How many orders were made in each region (state) of France?"
   ]
  },
  {
   "cell_type": "code",
   "execution_count": 60,
   "metadata": {},
   "outputs": [],
   "source": [
    "# your code goes here\n",
    "france_states = sales.loc[(sales['Country'] == 'France'), 'State'].value_counts()"
   ]
  },
  {
   "cell_type": "code",
   "execution_count": 12,
   "metadata": {
    "cell_type": "solution"
   },
   "outputs": [
    {
     "data": {
      "text/plain": [
       "Seine (Paris)        2328\n",
       "Seine Saint Denis    1684\n",
       "Nord                 1670\n",
       "Hauts de Seine       1084\n",
       "Essonne               994\n",
       "Yveline               954\n",
       "Seine et Marne        394\n",
       "Moselle               386\n",
       "Loiret                382\n",
       "Val d'Oise            264\n",
       "Garonne (Haute)       208\n",
       "Val de Marne          158\n",
       "Charente-Maritime     148\n",
       "Somme                 134\n",
       "Loir et Cher          120\n",
       "Pas de Calais          90\n",
       "Name: State, dtype: int64"
      ]
     },
     "execution_count": 12,
     "metadata": {},
     "output_type": "execute_result"
    }
   ],
   "source": []
  },
  {
   "cell_type": "markdown",
   "metadata": {},
   "source": [
    "Go ahead and show a <b>bar plot</b> with the results:"
   ]
  },
  {
   "cell_type": "code",
   "execution_count": 62,
   "metadata": {},
   "outputs": [
    {
     "data": {
      "text/plain": [
       "<AxesSubplot:>"
      ]
     },
     "execution_count": 62,
     "metadata": {},
     "output_type": "execute_result"
    },
    {
     "data": {
      "image/png": "[encoded data removed]",
      "text/plain": [
       "<Figure size 432x432 with 1 Axes>"
      ]
     },
     "metadata": {
      "needs_background": "light"
     },
     "output_type": "display_data"
    }
   ],
   "source": [
    "# your code goes here\n",
    "france_states.plot(kind='bar', figsize=(6,6))"
   ]
  },
  {
   "cell_type": "code",
   "execution_count": 14,
   "metadata": {
    "cell_type": "solution"
   },
   "outputs": [
    {
     "data": {
      "text/plain": [
       "<AxesSubplot:>"
      ]
     },
     "execution_count": 14,
     "metadata": {},
     "output_type": "execute_result"
    },
    {
     "data": {
      "image/png": "[encoded data removed]",
      "text/plain": [
       "<Figure size 1008x432 with 1 Axes>"
      ]
     },
     "metadata": {
      "needs_background": "light"
     },
     "output_type": "display_data"
    }
   ],
   "source": []
  },
  {
   "cell_type": "markdown",
   "metadata": {},
   "source": [
    "![green-divider](https://user-images.githubusercontent.com/7065401/52071924-c003ad80-2562-11e9-8297-1c6595f8a7ff.png)\n",
    "\n",
    "### How many sales were made per category?"
   ]
  },
  {
   "cell_type": "code",
   "execution_count": 64,
   "metadata": {},
   "outputs": [
    {
     "data": {
      "text/plain": [
       "Accessories    70120\n",
       "Bikes          25982\n",
       "Clothing       16934\n",
       "Name: Product_Category, dtype: int64"
      ]
     },
     "execution_count": 64,
     "metadata": {},
     "output_type": "execute_result"
    }
   ],
   "source": [
    "# your code goes here\n",
    "sales['Product_Category'].value_counts()"
   ]
  },
  {
   "cell_type": "code",
   "execution_count": 16,
   "metadata": {
    "cell_type": "solution"
   },
   "outputs": [
    {
     "data": {
      "text/plain": [
       "Accessories    70120\n",
       "Bikes          25982\n",
       "Clothing       16934\n",
       "Name: Product_Category, dtype: int64"
      ]
     },
     "execution_count": 16,
     "metadata": {},
     "output_type": "execute_result"
    }
   ],
   "source": []
  },
  {
   "cell_type": "markdown",
   "metadata": {},
   "source": [
    "Go ahead and show a <b>pie plot</b> with the results:"
   ]
  },
  {
   "cell_type": "code",
   "execution_count": 66,
   "metadata": {},
   "outputs": [
    {
     "data": {
      "text/plain": [
       "<AxesSubplot:ylabel='Product_Category'>"
      ]
     },
     "execution_count": 66,
     "metadata": {},
     "output_type": "execute_result"
    },
    {
     "data": {
      "image/png": "[encoded data removed]",
      "text/plain": [
       "<Figure size 432x432 with 1 Axes>"
      ]
     },
     "metadata": {},
     "output_type": "display_data"
    }
   ],
   "source": [
    "# your code goes here\n",
    "sales['Product_Category'].value_counts().plot(kind='pie', figsize=(6,6))"
   ]
  },
  {
   "cell_type": "code",
   "execution_count": 18,
   "metadata": {
    "cell_type": "solution"
   },
   "outputs": [
    {
     "data": {
      "text/plain": [
       "<AxesSubplot:ylabel='Product_Category'>"
      ]
     },
     "execution_count": 18,
     "metadata": {},
     "output_type": "execute_result"
    },
    {
     "data": {
      "image/png": "[encoded data removed]",
      "text/plain": [
       "<Figure size 432x432 with 1 Axes>"
      ]
     },
     "metadata": {},
     "output_type": "display_data"
    }
   ],
   "source": []
  },
  {
   "cell_type": "markdown",
   "metadata": {},
   "source": [
    "![green-divider](https://user-images.githubusercontent.com/7065401/52071924-c003ad80-2562-11e9-8297-1c6595f8a7ff.png)\n",
    "\n",
    "### How many orders were made per accessory sub-categories?"
   ]
  },
  {
   "cell_type": "code",
   "execution_count": 69,
   "metadata": {},
   "outputs": [
    {
     "data": {
      "text/plain": [
       "Tires and Tubes      33870\n",
       "Bottles and Cages    15876\n",
       "Helmets              12158\n",
       "Fenders               4032\n",
       "Cleaners              1802\n",
       "Hydration Packs       1334\n",
       "Bike Racks             592\n",
       "Bike Stands            456\n",
       "Name: Sub_Category, dtype: int64"
      ]
     },
     "execution_count": 69,
     "metadata": {},
     "output_type": "execute_result"
    }
   ],
   "source": [
    "# your code goes here\n",
    "sales.loc[sales['Product_Category'] == 'Accessories', 'Sub_Category'].value_counts()"
   ]
  },
  {
   "cell_type": "code",
   "execution_count": null,
   "metadata": {
    "cell_type": "solution"
   },
   "outputs": [],
   "source": []
  },
  {
   "cell_type": "markdown",
   "metadata": {},
   "source": [
    "Go ahead and show a <b>bar plot</b> with the results:"
   ]
  },
  {
   "cell_type": "code",
   "execution_count": 70,
   "metadata": {},
   "outputs": [
    {
     "data": {
      "text/plain": [
       "<AxesSubplot:>"
      ]
     },
     "execution_count": 70,
     "metadata": {},
     "output_type": "execute_result"
    },
    {
     "data": {
      "image/png": "[encoded data removed]",
      "text/plain": [
       "<Figure size 432x288 with 1 Axes>"
      ]
     },
     "metadata": {
      "needs_background": "light"
     },
     "output_type": "display_data"
    }
   ],
   "source": [
    "# your code goes here\n",
    "sales.loc[sales['Product_Category'] == 'Accessories', 'Sub_Category'].value_counts().plot(kind='bar')"
   ]
  },
  {
   "cell_type": "code",
   "execution_count": null,
   "metadata": {
    "cell_type": "solution"
   },
   "outputs": [],
   "source": []
  },
  {
   "cell_type": "markdown",
   "metadata": {},
   "source": [
    "![green-divider](https://user-images.githubusercontent.com/7065401/52071924-c003ad80-2562-11e9-8297-1c6595f8a7ff.png)\n",
    "\n",
    "### How many orders were made per bike sub-categories?"
   ]
  },
  {
   "cell_type": "code",
   "execution_count": 71,
   "metadata": {},
   "outputs": [
    {
     "data": {
      "text/plain": [
       "Road Bikes        13430\n",
       "Mountain Bikes     8854\n",
       "Touring Bikes      3698\n",
       "Name: Sub_Category, dtype: int64"
      ]
     },
     "execution_count": 71,
     "metadata": {},
     "output_type": "execute_result"
    }
   ],
   "source": [
    "# your code goes here\n",
    "sales.loc[sales['Product_Category'] == 'Bikes', 'Sub_Category'].value_counts()"
   ]
  },
  {
   "cell_type": "code",
   "execution_count": null,
   "metadata": {
    "cell_type": "solution"
   },
   "outputs": [],
   "source": []
  },
  {
   "cell_type": "markdown",
   "metadata": {},
   "source": [
    "Go ahead and show a <b>pie plot</b> with the results:"
   ]
  },
  {
   "cell_type": "code",
   "execution_count": 72,
   "metadata": {},
   "outputs": [
    {
     "data": {
      "text/plain": [
       "<AxesSubplot:ylabel='Sub_Category'>"
      ]
     },
     "execution_count": 72,
     "metadata": {},
     "output_type": "execute_result"
    },
    {
     "data": {
      "image/png": "[encoded data removed]",
      "text/plain": [
       "<Figure size 432x288 with 1 Axes>"
      ]
     },
     "metadata": {},
     "output_type": "display_data"
    }
   ],
   "source": [
    "# your code goes here\n",
    "sales.loc[sales['Product_Category'] == 'Bikes', 'Sub_Category'].value_counts().plot(kind='pie')"
   ]
  },
  {
   "cell_type": "code",
   "execution_count": null,
   "metadata": {
    "cell_type": "solution"
   },
   "outputs": [],
   "source": []
  },
  {
   "cell_type": "markdown",
   "metadata": {},
   "source": [
    "![green-divider](https://user-images.githubusercontent.com/7065401/52071924-c003ad80-2562-11e9-8297-1c6595f8a7ff.png)\n",
    "\n",
    "### Which gender has the most amount of sales?"
   ]
  },
  {
   "cell_type": "code",
   "execution_count": 73,
   "metadata": {},
   "outputs": [
    {
     "data": {
      "text/plain": [
       "M    58312\n",
       "F    54724\n",
       "Name: Customer_Gender, dtype: int64"
      ]
     },
     "execution_count": 73,
     "metadata": {},
     "output_type": "execute_result"
    }
   ],
   "source": [
    "# your code goes here\n",
    "sales['Customer_Gender'].value_counts()"
   ]
  },
  {
   "cell_type": "code",
   "execution_count": null,
   "metadata": {
    "cell_type": "solution"
   },
   "outputs": [],
   "source": []
  },
  {
   "cell_type": "code",
   "execution_count": null,
   "metadata": {
    "cell_type": "solution"
   },
   "outputs": [],
   "source": []
  },
  {
   "cell_type": "markdown",
   "metadata": {},
   "source": [
    "![green-divider](https://user-images.githubusercontent.com/7065401/52071924-c003ad80-2562-11e9-8297-1c6595f8a7ff.png)\n",
    "\n",
    "### How many sales with more than 500 in `Revenue` were made by men?"
   ]
  },
  {
   "cell_type": "code",
   "execution_count": 80,
   "metadata": {},
   "outputs": [
    {
     "data": {
      "text/plain": [
       "50"
      ]
     },
     "execution_count": 80,
     "metadata": {},
     "output_type": "execute_result"
    }
   ],
   "source": [
    "# your code goes here\n",
    "sales.loc[(sales['Customer_Gender'] == 'M') & (sales['Revenue'] == 500)].shape[0]"
   ]
  },
  {
   "cell_type": "code",
   "execution_count": 19,
   "metadata": {
    "cell_type": "solution"
   },
   "outputs": [
    {
     "data": {
      "text/plain": [
       "8"
      ]
     },
     "execution_count": 19,
     "metadata": {},
     "output_type": "execute_result"
    }
   ],
   "source": []
  },
  {
   "cell_type": "markdown",
   "metadata": {},
   "source": [
    "![green-divider](https://user-images.githubusercontent.com/7065401/52071924-c003ad80-2562-11e9-8297-1c6595f8a7ff.png)\n",
    "\n",
    "### Get the top-5 sales with the highest revenue"
   ]
  },
  {
   "cell_type": "code",
   "execution_count": 85,
   "metadata": {},
   "outputs": [
    {
     "data": {
      "text/html": [
       "<div>\n",
       "<style scoped>\n",
       "    .dataframe tbody tr th:only-of-type {\n",
       "        vertical-align: middle;\n",
       "    }\n",
       "\n",
       "    .dataframe tbody tr th {\n",
       "        vertical-align: top;\n",
       "    }\n",
       "\n",
       "    .dataframe thead th {\n",
       "        text-align: right;\n",
       "    }\n",
       "</style>\n",
       "<table border=\"1\" class=\"dataframe\">\n",
       "  <thead>\n",
       "    <tr style=\"text-align: right;\">\n",
       "      <th></th>\n",
       "      <th>Date</th>\n",
       "      <th>Day</th>\n",
       "      <th>Month</th>\n",
       "      <th>Year</th>\n",
       "      <th>Customer_Age</th>\n",
       "      <th>Age_Group</th>\n",
       "      <th>Customer_Gender</th>\n",
       "      <th>Country</th>\n",
       "      <th>State</th>\n",
       "      <th>Product_Category</th>\n",
       "      <th>Sub_Category</th>\n",
       "      <th>Product</th>\n",
       "      <th>Order_Quantity</th>\n",
       "      <th>Unit_Cost</th>\n",
       "      <th>Unit_Price</th>\n",
       "      <th>Profit</th>\n",
       "      <th>Cost</th>\n",
       "      <th>Revenue</th>\n",
       "      <th>Calculated_Date</th>\n",
       "    </tr>\n",
       "  </thead>\n",
       "  <tbody>\n",
       "    <tr>\n",
       "      <th>112073</th>\n",
       "      <td>24-July-2015</td>\n",
       "      <td>24</td>\n",
       "      <td>July</td>\n",
       "      <td>2015</td>\n",
       "      <td>52</td>\n",
       "      <td>Adults (35-64)</td>\n",
       "      <td>M</td>\n",
       "      <td>Australia</td>\n",
       "      <td>Queensland</td>\n",
       "      <td>Clothing</td>\n",
       "      <td>Vests</td>\n",
       "      <td>Touring-1000 Yellow, 50</td>\n",
       "      <td>29</td>\n",
       "      <td>1482</td>\n",
       "      <td>2384</td>\n",
       "      <td>15096</td>\n",
       "      <td>42978</td>\n",
       "      <td>58124</td>\n",
       "      <td>2015-07-24</td>\n",
       "    </tr>\n",
       "    <tr>\n",
       "      <th>112072</th>\n",
       "      <td>24-July-2013</td>\n",
       "      <td>24</td>\n",
       "      <td>July</td>\n",
       "      <td>2013</td>\n",
       "      <td>52</td>\n",
       "      <td>Adults (35-64)</td>\n",
       "      <td>M</td>\n",
       "      <td>Australia</td>\n",
       "      <td>Queensland</td>\n",
       "      <td>Clothing</td>\n",
       "      <td>Vests</td>\n",
       "      <td>Touring-1000 Yellow, 50</td>\n",
       "      <td>27</td>\n",
       "      <td>1482</td>\n",
       "      <td>2384</td>\n",
       "      <td>14055</td>\n",
       "      <td>40014</td>\n",
       "      <td>54119</td>\n",
       "      <td>2013-07-24</td>\n",
       "    </tr>\n",
       "    <tr>\n",
       "      <th>71129</th>\n",
       "      <td>8-July-2011</td>\n",
       "      <td>8</td>\n",
       "      <td>July</td>\n",
       "      <td>2011</td>\n",
       "      <td>22</td>\n",
       "      <td>Youth (&lt;25)</td>\n",
       "      <td>M</td>\n",
       "      <td>Canada</td>\n",
       "      <td>Alberta</td>\n",
       "      <td>Bikes</td>\n",
       "      <td>Road Bikes</td>\n",
       "      <td>Road-150 Red, 48</td>\n",
       "      <td>4</td>\n",
       "      <td>2171</td>\n",
       "      <td>3578</td>\n",
       "      <td>5628</td>\n",
       "      <td>8684</td>\n",
       "      <td>14362</td>\n",
       "      <td>2011-07-08</td>\n",
       "    </tr>\n",
       "    <tr>\n",
       "      <th>70307</th>\n",
       "      <td>30-April-2011</td>\n",
       "      <td>30</td>\n",
       "      <td>April</td>\n",
       "      <td>2011</td>\n",
       "      <td>44</td>\n",
       "      <td>Adults (35-64)</td>\n",
       "      <td>M</td>\n",
       "      <td>Canada</td>\n",
       "      <td>British Columbia</td>\n",
       "      <td>Bikes</td>\n",
       "      <td>Road Bikes</td>\n",
       "      <td>Road-150 Red, 62</td>\n",
       "      <td>4</td>\n",
       "      <td>2171</td>\n",
       "      <td>3578</td>\n",
       "      <td>5485</td>\n",
       "      <td>8684</td>\n",
       "      <td>14219</td>\n",
       "      <td>2011-04-30</td>\n",
       "    </tr>\n",
       "    <tr>\n",
       "      <th>70601</th>\n",
       "      <td>30-September-2011</td>\n",
       "      <td>30</td>\n",
       "      <td>September</td>\n",
       "      <td>2011</td>\n",
       "      <td>19</td>\n",
       "      <td>Youth (&lt;25)</td>\n",
       "      <td>F</td>\n",
       "      <td>Canada</td>\n",
       "      <td>British Columbia</td>\n",
       "      <td>Bikes</td>\n",
       "      <td>Road Bikes</td>\n",
       "      <td>Road-150 Red, 62</td>\n",
       "      <td>4</td>\n",
       "      <td>2171</td>\n",
       "      <td>3578</td>\n",
       "      <td>5485</td>\n",
       "      <td>8684</td>\n",
       "      <td>14219</td>\n",
       "      <td>2011-09-30</td>\n",
       "    </tr>\n",
       "  </tbody>\n",
       "</table>\n",
       "</div>"
      ],
      "text/plain": [
       "                     Date  Day      Month  Year  Customer_Age       Age_Group  \\\n",
       "112073       24-July-2015   24       July  2015            52  Adults (35-64)   \n",
       "112072       24-July-2013   24       July  2013            52  Adults (35-64)   \n",
       "71129         8-July-2011    8       July  2011            22     Youth (<25)   \n",
       "70307       30-April-2011   30      April  2011            44  Adults (35-64)   \n",
       "70601   30-September-2011   30  September  2011            19     Youth (<25)   \n",
       "\n",
       "       Customer_Gender    Country             State Product_Category  \\\n",
       "112073               M  Australia        Queensland         Clothing   \n",
       "112072               M  Australia        Queensland         Clothing   \n",
       "71129                M     Canada           Alberta            Bikes   \n",
       "70307                M     Canada  British Columbia            Bikes   \n",
       "70601                F     Canada  British Columbia            Bikes   \n",
       "\n",
       "       Sub_Category                  Product  Order_Quantity  Unit_Cost  \\\n",
       "112073        Vests  Touring-1000 Yellow, 50              29       1482   \n",
       "112072        Vests  Touring-1000 Yellow, 50              27       1482   \n",
       "71129    Road Bikes         Road-150 Red, 48               4       2171   \n",
       "70307    Road Bikes         Road-150 Red, 62               4       2171   \n",
       "70601    Road Bikes         Road-150 Red, 62               4       2171   \n",
       "\n",
       "        Unit_Price  Profit   Cost  Revenue Calculated_Date  \n",
       "112073        2384   15096  42978    58124      2015-07-24  \n",
       "112072        2384   14055  40014    54119      2013-07-24  \n",
       "71129         3578    5628   8684    14362      2011-07-08  \n",
       "70307         3578    5485   8684    14219      2011-04-30  \n",
       "70601         3578    5485   8684    14219      2011-09-30  "
      ]
     },
     "execution_count": 85,
     "metadata": {},
     "output_type": "execute_result"
    }
   ],
   "source": [
    "# your code goes here\n",
    "sales.sort_values(['Revenue'], ascending=False).head(5)"
   ]
  },
  {
   "cell_type": "code",
   "execution_count": 20,
   "metadata": {
    "cell_type": "solution"
   },
   "outputs": [
    {
     "data": {
      "text/html": [
       "<div>\n",
       "<style scoped>\n",
       "    .dataframe tbody tr th:only-of-type {\n",
       "        vertical-align: middle;\n",
       "    }\n",
       "\n",
       "    .dataframe tbody tr th {\n",
       "        vertical-align: top;\n",
       "    }\n",
       "\n",
       "    .dataframe thead th {\n",
       "        text-align: right;\n",
       "    }\n",
       "</style>\n",
       "<table border=\"1\" class=\"dataframe\">\n",
       "  <thead>\n",
       "    <tr style=\"text-align: right;\">\n",
       "      <th></th>\n",
       "      <th>Date</th>\n",
       "      <th>Day</th>\n",
       "      <th>Month</th>\n",
       "      <th>Year</th>\n",
       "      <th>Customer_Age</th>\n",
       "      <th>Age_Group</th>\n",
       "      <th>Customer_Gender</th>\n",
       "      <th>Country</th>\n",
       "      <th>State</th>\n",
       "      <th>Product_Category</th>\n",
       "      <th>Sub_Category</th>\n",
       "      <th>Product</th>\n",
       "      <th>Order_Quantity</th>\n",
       "      <th>Unit_Cost</th>\n",
       "      <th>Unit_Price</th>\n",
       "      <th>Profit</th>\n",
       "      <th>Cost</th>\n",
       "      <th>Revenue</th>\n",
       "      <th>Calculated_Date</th>\n",
       "    </tr>\n",
       "  </thead>\n",
       "  <tbody>\n",
       "    <tr>\n",
       "      <th>112073</th>\n",
       "      <td>2015-07-24</td>\n",
       "      <td>24</td>\n",
       "      <td>July</td>\n",
       "      <td>2015</td>\n",
       "      <td>52</td>\n",
       "      <td>Adults (35-64)</td>\n",
       "      <td>M</td>\n",
       "      <td>Australia</td>\n",
       "      <td>Queensland</td>\n",
       "      <td>Clothing</td>\n",
       "      <td>Vests</td>\n",
       "      <td>Touring-1000 Yellow, 50</td>\n",
       "      <td>29</td>\n",
       "      <td>1482</td>\n",
       "      <td>2384</td>\n",
       "      <td>15096</td>\n",
       "      <td>42978</td>\n",
       "      <td>58074</td>\n",
       "      <td>2015-07-24</td>\n",
       "    </tr>\n",
       "    <tr>\n",
       "      <th>112072</th>\n",
       "      <td>2013-07-24</td>\n",
       "      <td>24</td>\n",
       "      <td>July</td>\n",
       "      <td>2013</td>\n",
       "      <td>52</td>\n",
       "      <td>Adults (35-64)</td>\n",
       "      <td>M</td>\n",
       "      <td>Australia</td>\n",
       "      <td>Queensland</td>\n",
       "      <td>Clothing</td>\n",
       "      <td>Vests</td>\n",
       "      <td>Touring-1000 Yellow, 50</td>\n",
       "      <td>27</td>\n",
       "      <td>1482</td>\n",
       "      <td>2384</td>\n",
       "      <td>14055</td>\n",
       "      <td>40014</td>\n",
       "      <td>54069</td>\n",
       "      <td>2013-07-24</td>\n",
       "    </tr>\n",
       "    <tr>\n",
       "      <th>71129</th>\n",
       "      <td>2011-07-08</td>\n",
       "      <td>8</td>\n",
       "      <td>July</td>\n",
       "      <td>2011</td>\n",
       "      <td>22</td>\n",
       "      <td>Youth (&lt;25)</td>\n",
       "      <td>M</td>\n",
       "      <td>Canada</td>\n",
       "      <td>Alberta</td>\n",
       "      <td>Bikes</td>\n",
       "      <td>Road Bikes</td>\n",
       "      <td>Road-150 Red, 48</td>\n",
       "      <td>4</td>\n",
       "      <td>2171</td>\n",
       "      <td>3578</td>\n",
       "      <td>5628</td>\n",
       "      <td>8684</td>\n",
       "      <td>14312</td>\n",
       "      <td>2011-07-08</td>\n",
       "    </tr>\n",
       "    <tr>\n",
       "      <th>70307</th>\n",
       "      <td>2011-04-30</td>\n",
       "      <td>30</td>\n",
       "      <td>April</td>\n",
       "      <td>2011</td>\n",
       "      <td>44</td>\n",
       "      <td>Adults (35-64)</td>\n",
       "      <td>M</td>\n",
       "      <td>Canada</td>\n",
       "      <td>British Columbia</td>\n",
       "      <td>Bikes</td>\n",
       "      <td>Road Bikes</td>\n",
       "      <td>Road-150 Red, 62</td>\n",
       "      <td>4</td>\n",
       "      <td>2171</td>\n",
       "      <td>3578</td>\n",
       "      <td>5485</td>\n",
       "      <td>8684</td>\n",
       "      <td>14169</td>\n",
       "      <td>2011-04-30</td>\n",
       "    </tr>\n",
       "    <tr>\n",
       "      <th>70601</th>\n",
       "      <td>2011-09-30</td>\n",
       "      <td>30</td>\n",
       "      <td>September</td>\n",
       "      <td>2011</td>\n",
       "      <td>19</td>\n",
       "      <td>Youth (&lt;25)</td>\n",
       "      <td>F</td>\n",
       "      <td>Canada</td>\n",
       "      <td>British Columbia</td>\n",
       "      <td>Bikes</td>\n",
       "      <td>Road Bikes</td>\n",
       "      <td>Road-150 Red, 62</td>\n",
       "      <td>4</td>\n",
       "      <td>2171</td>\n",
       "      <td>3578</td>\n",
       "      <td>5485</td>\n",
       "      <td>8684</td>\n",
       "      <td>14169</td>\n",
       "      <td>2011-09-30</td>\n",
       "    </tr>\n",
       "  </tbody>\n",
       "</table>\n",
       "</div>"
      ],
      "text/plain": [
       "             Date  Day      Month  Year  Customer_Age       Age_Group  \\\n",
       "112073 2015-07-24   24       July  2015            52  Adults (35-64)   \n",
       "112072 2013-07-24   24       July  2013            52  Adults (35-64)   \n",
       "71129  2011-07-08    8       July  2011            22     Youth (<25)   \n",
       "70307  2011-04-30   30      April  2011            44  Adults (35-64)   \n",
       "70601  2011-09-30   30  September  2011            19     Youth (<25)   \n",
       "\n",
       "       Customer_Gender    Country             State Product_Category  \\\n",
       "112073               M  Australia        Queensland         Clothing   \n",
       "112072               M  Australia        Queensland         Clothing   \n",
       "71129                M     Canada           Alberta            Bikes   \n",
       "70307                M     Canada  British Columbia            Bikes   \n",
       "70601                F     Canada  British Columbia            Bikes   \n",
       "\n",
       "       Sub_Category                  Product  Order_Quantity  Unit_Cost  \\\n",
       "112073        Vests  Touring-1000 Yellow, 50              29       1482   \n",
       "112072        Vests  Touring-1000 Yellow, 50              27       1482   \n",
       "71129    Road Bikes         Road-150 Red, 48               4       2171   \n",
       "70307    Road Bikes         Road-150 Red, 62               4       2171   \n",
       "70601    Road Bikes         Road-150 Red, 62               4       2171   \n",
       "\n",
       "        Unit_Price  Profit   Cost  Revenue Calculated_Date  \n",
       "112073        2384   15096  42978    58074      2015-07-24  \n",
       "112072        2384   14055  40014    54069      2013-07-24  \n",
       "71129         3578    5628   8684    14312      2011-07-08  \n",
       "70307         3578    5485   8684    14169      2011-04-30  \n",
       "70601         3578    5485   8684    14169      2011-09-30  "
      ]
     },
     "execution_count": 20,
     "metadata": {},
     "output_type": "execute_result"
    }
   ],
   "source": []
  },
  {
   "cell_type": "markdown",
   "metadata": {},
   "source": [
    "![green-divider](https://user-images.githubusercontent.com/7065401/52071924-c003ad80-2562-11e9-8297-1c6595f8a7ff.png)\n",
    "\n",
    "### Get the sale with the highest revenue"
   ]
  },
  {
   "cell_type": "code",
   "execution_count": 87,
   "metadata": {},
   "outputs": [
    {
     "data": {
      "text/html": [
       "<div>\n",
       "<style scoped>\n",
       "    .dataframe tbody tr th:only-of-type {\n",
       "        vertical-align: middle;\n",
       "    }\n",
       "\n",
       "    .dataframe tbody tr th {\n",
       "        vertical-align: top;\n",
       "    }\n",
       "\n",
       "    .dataframe thead th {\n",
       "        text-align: right;\n",
       "    }\n",
       "</style>\n",
       "<table border=\"1\" class=\"dataframe\">\n",
       "  <thead>\n",
       "    <tr style=\"text-align: right;\">\n",
       "      <th></th>\n",
       "      <th>Date</th>\n",
       "      <th>Day</th>\n",
       "      <th>Month</th>\n",
       "      <th>Year</th>\n",
       "      <th>Customer_Age</th>\n",
       "      <th>Age_Group</th>\n",
       "      <th>Customer_Gender</th>\n",
       "      <th>Country</th>\n",
       "      <th>State</th>\n",
       "      <th>Product_Category</th>\n",
       "      <th>Sub_Category</th>\n",
       "      <th>Product</th>\n",
       "      <th>Order_Quantity</th>\n",
       "      <th>Unit_Cost</th>\n",
       "      <th>Unit_Price</th>\n",
       "      <th>Profit</th>\n",
       "      <th>Cost</th>\n",
       "      <th>Revenue</th>\n",
       "      <th>Calculated_Date</th>\n",
       "    </tr>\n",
       "  </thead>\n",
       "  <tbody>\n",
       "    <tr>\n",
       "      <th>112073</th>\n",
       "      <td>24-July-2015</td>\n",
       "      <td>24</td>\n",
       "      <td>July</td>\n",
       "      <td>2015</td>\n",
       "      <td>52</td>\n",
       "      <td>Adults (35-64)</td>\n",
       "      <td>M</td>\n",
       "      <td>Australia</td>\n",
       "      <td>Queensland</td>\n",
       "      <td>Clothing</td>\n",
       "      <td>Vests</td>\n",
       "      <td>Touring-1000 Yellow, 50</td>\n",
       "      <td>29</td>\n",
       "      <td>1482</td>\n",
       "      <td>2384</td>\n",
       "      <td>15096</td>\n",
       "      <td>42978</td>\n",
       "      <td>58124</td>\n",
       "      <td>2015-07-24</td>\n",
       "    </tr>\n",
       "  </tbody>\n",
       "</table>\n",
       "</div>"
      ],
      "text/plain": [
       "                Date  Day Month  Year  Customer_Age       Age_Group  \\\n",
       "112073  24-July-2015   24  July  2015            52  Adults (35-64)   \n",
       "\n",
       "       Customer_Gender    Country       State Product_Category Sub_Category  \\\n",
       "112073               M  Australia  Queensland         Clothing        Vests   \n",
       "\n",
       "                        Product  Order_Quantity  Unit_Cost  Unit_Price  \\\n",
       "112073  Touring-1000 Yellow, 50              29       1482        2384   \n",
       "\n",
       "        Profit   Cost  Revenue Calculated_Date  \n",
       "112073   15096  42978    58124      2015-07-24  "
      ]
     },
     "execution_count": 87,
     "metadata": {},
     "output_type": "execute_result"
    }
   ],
   "source": [
    "# your code goes here\n",
    "sales[sales['Revenue'] == sales['Revenue'].max()]"
   ]
  },
  {
   "cell_type": "code",
   "execution_count": null,
   "metadata": {
    "cell_type": "solution"
   },
   "outputs": [],
   "source": []
  },
  {
   "cell_type": "markdown",
   "metadata": {},
   "source": [
    "![green-divider](https://user-images.githubusercontent.com/7065401/52071924-c003ad80-2562-11e9-8297-1c6595f8a7ff.png)\n",
    "\n",
    "### What is the mean `Order_Quantity` of orders with more than 10K in revenue?"
   ]
  },
  {
   "cell_type": "code",
   "execution_count": 88,
   "metadata": {},
   "outputs": [
    {
     "data": {
      "text/plain": [
       "3.689265536723164"
      ]
     },
     "execution_count": 88,
     "metadata": {},
     "output_type": "execute_result"
    }
   ],
   "source": [
    "# your code goes here\n",
    "sales.loc[(sales['Revenue'] > 10000), 'Order_Quantity'].mean()"
   ]
  },
  {
   "cell_type": "code",
   "execution_count": 21,
   "metadata": {
    "cell_type": "solution"
   },
   "outputs": [
    {
     "data": {
      "text/plain": [
       "3.7218934911242605"
      ]
     },
     "execution_count": 21,
     "metadata": {},
     "output_type": "execute_result"
    }
   ],
   "source": []
  },
  {
   "cell_type": "markdown",
   "metadata": {},
   "source": [
    "![green-divider](https://user-images.githubusercontent.com/7065401/52071924-c003ad80-2562-11e9-8297-1c6595f8a7ff.png)\n",
    "\n",
    "### What is the mean `Order_Quantity` of orders with less than 10K in revenue?"
   ]
  },
  {
   "cell_type": "code",
   "execution_count": 90,
   "metadata": {},
   "outputs": [
    {
     "data": {
      "text/plain": [
       "11.914539380997528"
      ]
     },
     "execution_count": 90,
     "metadata": {},
     "output_type": "execute_result"
    }
   ],
   "source": [
    "# your code goes here\n",
    "sales.loc[(sales['Revenue'] < 10000), 'Order_Quantity'].mean()"
   ]
  },
  {
   "cell_type": "code",
   "execution_count": 22,
   "metadata": {
    "cell_type": "solution"
   },
   "outputs": [
    {
     "data": {
      "text/plain": [
       "11.913907519469818"
      ]
     },
     "execution_count": 22,
     "metadata": {},
     "output_type": "execute_result"
    }
   ],
   "source": []
  },
  {
   "cell_type": "markdown",
   "metadata": {},
   "source": [
    "![green-divider](https://user-images.githubusercontent.com/7065401/52071924-c003ad80-2562-11e9-8297-1c6595f8a7ff.png)\n",
    "\n",
    "### How many orders were made in May of 2016?"
   ]
  },
  {
   "cell_type": "code",
   "execution_count": 91,
   "metadata": {},
   "outputs": [
    {
     "data": {
      "text/plain": [
       "5015"
      ]
     },
     "execution_count": 91,
     "metadata": {},
     "output_type": "execute_result"
    }
   ],
   "source": [
    "# your code goes here\n",
    "sales.loc[(sales['Month'] == 'May') & (sales['Year'] == 2016), 'Order_Quantity'].shape[0]"
   ]
  },
  {
   "cell_type": "code",
   "execution_count": 23,
   "metadata": {
    "cell_type": "solution"
   },
   "outputs": [
    {
     "data": {
      "text/plain": [
       "5015"
      ]
     },
     "execution_count": 23,
     "metadata": {},
     "output_type": "execute_result"
    }
   ],
   "source": []
  },
  {
   "cell_type": "markdown",
   "metadata": {},
   "source": [
    "![green-divider](https://user-images.githubusercontent.com/7065401/52071924-c003ad80-2562-11e9-8297-1c6595f8a7ff.png)\n",
    "\n",
    "### How many orders were made between May and July of 2016?"
   ]
  },
  {
   "cell_type": "code",
   "execution_count": 92,
   "metadata": {},
   "outputs": [
    {
     "data": {
      "text/plain": [
       "12164"
      ]
     },
     "execution_count": 92,
     "metadata": {},
     "output_type": "execute_result"
    }
   ],
   "source": [
    "# your code goes here\n",
    "sales.loc[(sales['Month'].isin(['May', 'June', 'July'])) & (sales['Year'] == 2016), 'Order_Quantity'].shape[0]"
   ]
  },
  {
   "cell_type": "code",
   "execution_count": 24,
   "metadata": {
    "cell_type": "solution"
   },
   "outputs": [
    {
     "data": {
      "text/plain": [
       "12164"
      ]
     },
     "execution_count": 24,
     "metadata": {},
     "output_type": "execute_result"
    }
   ],
   "source": []
  },
  {
   "cell_type": "markdown",
   "metadata": {},
   "source": [
    "Show a grouped <b>box plot</b> per month with the profit values."
   ]
  },
  {
   "cell_type": "code",
   "execution_count": 97,
   "metadata": {},
   "outputs": [
    {
     "data": {
      "text/plain": [
       "<AxesSubplot:title={'center':'Profit'}, xlabel='[Month]'>"
      ]
     },
     "execution_count": 97,
     "metadata": {},
     "output_type": "execute_result"
    },
    {
     "data": {
      "image/png": "[encoded data removed]",
      "text/plain": [
       "<Figure size 1008x432 with 1 Axes>"
      ]
     },
     "metadata": {
      "needs_background": "light"
     },
     "output_type": "display_data"
    }
   ],
   "source": [
    "# your code goes here\n",
    "profit_2016 = sales.loc[sales['Year'] == 2016, ['Profit', 'Month']]\n",
    "\n",
    "profit_2016.boxplot(by='Month', figsize=(14,6))"
   ]
  },
  {
   "cell_type": "code",
   "execution_count": 25,
   "metadata": {
    "cell_type": "solution"
   },
   "outputs": [
    {
     "data": {
      "text/plain": [
       "<AxesSubplot:title={'center':'Profit'}, xlabel='[Month]'>"
      ]
     },
     "execution_count": 25,
     "metadata": {},
     "output_type": "execute_result"
    },
    {
     "data": {
      "image/png": "[encoded data removed]",
      "text/plain": [
       "<Figure size 1008x432 with 1 Axes>"
      ]
     },
     "metadata": {
      "needs_background": "light"
     },
     "output_type": "display_data"
    }
   ],
   "source": []
  },
  {
   "cell_type": "markdown",
   "metadata": {},
   "source": [
    "![green-divider](https://user-images.githubusercontent.com/7065401/52071924-c003ad80-2562-11e9-8297-1c6595f8a7ff.png)\n",
    "\n",
    "### Add 7.2% TAX on every sale `Unit_Price` within United States"
   ]
  },
  {
   "cell_type": "code",
   "execution_count": 103,
   "metadata": {},
   "outputs": [],
   "source": [
    "# your code goes here\n",
    "sales.loc[sales['Country'] == 'United States', 'Unit_Price'] *= 1.072"
   ]
  },
  {
   "cell_type": "code",
   "execution_count": 104,
   "metadata": {
    "cell_type": "solution"
   },
   "outputs": [
    {
     "data": {
      "text/plain": [
       "0         128.640\n",
       "1         128.640\n",
       "2         128.640\n",
       "3         128.640\n",
       "4         128.640\n",
       "           ...   \n",
       "113031     68.608\n",
       "113032     68.608\n",
       "113033     68.608\n",
       "113034     68.608\n",
       "113035     68.608\n",
       "Name: Unit_Price, Length: 113036, dtype: float64"
      ]
     },
     "execution_count": 104,
     "metadata": {},
     "output_type": "execute_result"
    }
   ],
   "source": [
    "sales['Unit_Price']"
   ]
  },
  {
   "cell_type": "code",
   "execution_count": 102,
   "metadata": {},
   "outputs": [
    {
     "data": {
      "text/plain": [
       "0    128.64\n",
       "1    128.64\n",
       "2    128.64\n",
       "3    128.64\n",
       "4    128.64\n",
       "Name: Unit_Price, dtype: float64"
      ]
     },
     "execution_count": 102,
     "metadata": {},
     "output_type": "execute_result"
    }
   ],
   "source": []
  },
  {
   "cell_type": "markdown",
   "metadata": {},
   "source": [
    "![purple-divider](https://user-images.githubusercontent.com/7065401/52071927-c1cd7100-2562-11e9-908a-dde91ba14e59.png)"
   ]
  }
 ],
 "metadata": {
  "kernelspec": {
   "display_name": "Python 3",
   "language": "python",
   "name": "python3"
  },
  "language_info": {
   "codemirror_mode": {
    "name": "ipython",
    "version": 3
   },
   "file_extension": ".py",
   "mimetype": "text/x-python",
   "name": "python",
   "nbconvert_exporter": "python",
   "pygments_lexer": "ipython3",
   "version": "3.8.8"
  }
 },
 "nbformat": 4,
 "nbformat_minor": 4
}
